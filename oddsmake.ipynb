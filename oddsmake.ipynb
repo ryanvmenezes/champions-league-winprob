{
 "cells": [
  {
   "cell_type": "code",
   "execution_count": 1,
   "metadata": {},
   "outputs": [],
   "source": [
    "import pandas as pd"
   ]
  },
  {
   "cell_type": "code",
   "execution_count": 2,
   "metadata": {},
   "outputs": [],
   "source": [
    "odds = pd.read_csv('champions league odds - odds.csv')"
   ]
  },
  {
   "cell_type": "code",
   "execution_count": 3,
   "metadata": {},
   "outputs": [
    {
     "data": {
      "text/html": [
       "<div>\n",
       "<style scoped>\n",
       "    .dataframe tbody tr th:only-of-type {\n",
       "        vertical-align: middle;\n",
       "    }\n",
       "\n",
       "    .dataframe tbody tr th {\n",
       "        vertical-align: top;\n",
       "    }\n",
       "\n",
       "    .dataframe thead th {\n",
       "        text-align: right;\n",
       "    }\n",
       "</style>\n",
       "<table border=\"1\" class=\"dataframe\">\n",
       "  <thead>\n",
       "    <tr style=\"text-align: right;\">\n",
       "      <th></th>\n",
       "      <th>hometeam</th>\n",
       "      <th>awayteam</th>\n",
       "      <th>season</th>\n",
       "      <th>homewin</th>\n",
       "      <th>draw</th>\n",
       "      <th>awaywin</th>\n",
       "    </tr>\n",
       "  </thead>\n",
       "  <tbody>\n",
       "    <tr>\n",
       "      <th>0</th>\n",
       "      <td>AS Roma</td>\n",
       "      <td>Liverpool</td>\n",
       "      <td>2018</td>\n",
       "      <td>0.367839</td>\n",
       "      <td>0.240685</td>\n",
       "      <td>0.391476</td>\n",
       "    </tr>\n",
       "    <tr>\n",
       "      <th>1</th>\n",
       "      <td>Real Madrid</td>\n",
       "      <td>Bayern Munich</td>\n",
       "      <td>2018</td>\n",
       "      <td>0.407064</td>\n",
       "      <td>0.237869</td>\n",
       "      <td>0.355067</td>\n",
       "    </tr>\n",
       "    <tr>\n",
       "      <th>2</th>\n",
       "      <td>Bayern Munich</td>\n",
       "      <td>Real Madrid</td>\n",
       "      <td>2018</td>\n",
       "      <td>0.487331</td>\n",
       "      <td>0.238888</td>\n",
       "      <td>0.273781</td>\n",
       "    </tr>\n",
       "    <tr>\n",
       "      <th>3</th>\n",
       "      <td>Liverpool</td>\n",
       "      <td>AS Roma</td>\n",
       "      <td>2018</td>\n",
       "      <td>0.642321</td>\n",
       "      <td>0.211442</td>\n",
       "      <td>0.146237</td>\n",
       "    </tr>\n",
       "    <tr>\n",
       "      <th>4</th>\n",
       "      <td>Bayern Munich</td>\n",
       "      <td>Sevilla</td>\n",
       "      <td>2018</td>\n",
       "      <td>0.764948</td>\n",
       "      <td>0.142686</td>\n",
       "      <td>0.092366</td>\n",
       "    </tr>\n",
       "  </tbody>\n",
       "</table>\n",
       "</div>"
      ],
      "text/plain": [
       "         hometeam       awayteam  season   homewin      draw   awaywin\n",
       "0        AS Roma       Liverpool    2018  0.367839  0.240685  0.391476\n",
       "1    Real Madrid   Bayern Munich    2018  0.407064  0.237869  0.355067\n",
       "2  Bayern Munich     Real Madrid    2018  0.487331  0.238888  0.273781\n",
       "3      Liverpool         AS Roma    2018  0.642321  0.211442  0.146237\n",
       "4  Bayern Munich         Sevilla    2018  0.764948  0.142686  0.092366"
      ]
     },
     "execution_count": 3,
     "metadata": {},
     "output_type": "execute_result"
    }
   ],
   "source": [
    "odds.head()"
   ]
  },
  {
   "cell_type": "code",
   "execution_count": 15,
   "metadata": {},
   "outputs": [],
   "source": [
    "odds['hometeam'] = odds['hometeam'].str.strip()\n",
    "odds['awayteam'] = odds['awayteam'].str.strip()"
   ]
  },
  {
   "cell_type": "code",
   "execution_count": 16,
   "metadata": {},
   "outputs": [
    {
     "name": "stdout",
     "output_type": "stream",
     "text": [
      "<class 'pandas.core.frame.DataFrame'>\n",
      "RangeIndex: 324 entries, 0 to 323\n",
      "Data columns (total 6 columns):\n",
      "hometeam    324 non-null object\n",
      "awayteam    324 non-null object\n",
      "season      324 non-null int64\n",
      "homewin     322 non-null float64\n",
      "draw        322 non-null float64\n",
      "awaywin     322 non-null float64\n",
      "dtypes: float64(3), int64(1), object(2)\n",
      "memory usage: 15.3+ KB\n"
     ]
    }
   ],
   "source": [
    "odds.info()"
   ]
  },
  {
   "cell_type": "code",
   "execution_count": 17,
   "metadata": {},
   "outputs": [
    {
     "data": {
      "text/plain": [
       "324"
      ]
     },
     "execution_count": 17,
     "metadata": {},
     "output_type": "execute_result"
    }
   ],
   "source": [
    "len(odds)"
   ]
  },
  {
   "cell_type": "code",
   "execution_count": 18,
   "metadata": {},
   "outputs": [],
   "source": [
    "results = pd.read_csv('results.csv')"
   ]
  },
  {
   "cell_type": "code",
   "execution_count": 19,
   "metadata": {},
   "outputs": [
    {
     "data": {
      "text/html": [
       "<div>\n",
       "<style scoped>\n",
       "    .dataframe tbody tr th:only-of-type {\n",
       "        vertical-align: middle;\n",
       "    }\n",
       "\n",
       "    .dataframe tbody tr th {\n",
       "        vertical-align: top;\n",
       "    }\n",
       "\n",
       "    .dataframe thead th {\n",
       "        text-align: right;\n",
       "    }\n",
       "</style>\n",
       "<table border=\"1\" class=\"dataframe\">\n",
       "  <thead>\n",
       "    <tr style=\"text-align: right;\">\n",
       "      <th></th>\n",
       "      <th>season</th>\n",
       "      <th>round</th>\n",
       "      <th>tie</th>\n",
       "      <th>winner</th>\n",
       "      <th>pk</th>\n",
       "      <th>agr</th>\n",
       "      <th>aet</th>\n",
       "      <th>result</th>\n",
       "    </tr>\n",
       "  </thead>\n",
       "  <tbody>\n",
       "    <tr>\n",
       "      <th>0</th>\n",
       "      <td>2008</td>\n",
       "      <td>first</td>\n",
       "      <td>arsenal-milan</td>\n",
       "      <td>arsenal</td>\n",
       "      <td>False</td>\n",
       "      <td>False</td>\n",
       "      <td>False</td>\n",
       "      <td>arsenal (2-0) milan</td>\n",
       "    </tr>\n",
       "    <tr>\n",
       "      <th>1</th>\n",
       "      <td>2008</td>\n",
       "      <td>first</td>\n",
       "      <td>celtic-barcelona</td>\n",
       "      <td>barcelona</td>\n",
       "      <td>False</td>\n",
       "      <td>False</td>\n",
       "      <td>False</td>\n",
       "      <td>celtic (2-4) barcelona</td>\n",
       "    </tr>\n",
       "    <tr>\n",
       "      <th>2</th>\n",
       "      <td>2008</td>\n",
       "      <td>first</td>\n",
       "      <td>fenerbahce-sevilla</td>\n",
       "      <td>fenerbahce</td>\n",
       "      <td>True</td>\n",
       "      <td>False</td>\n",
       "      <td>True</td>\n",
       "      <td>fenerbahce (5-5 aet) sevilla, fenerbahce won o...</td>\n",
       "    </tr>\n",
       "    <tr>\n",
       "      <th>3</th>\n",
       "      <td>2008</td>\n",
       "      <td>first</td>\n",
       "      <td>liverpool-inter</td>\n",
       "      <td>liverpool</td>\n",
       "      <td>False</td>\n",
       "      <td>False</td>\n",
       "      <td>False</td>\n",
       "      <td>liverpool (3-0) inter</td>\n",
       "    </tr>\n",
       "    <tr>\n",
       "      <th>4</th>\n",
       "      <td>2008</td>\n",
       "      <td>first</td>\n",
       "      <td>lyon-united</td>\n",
       "      <td>united</td>\n",
       "      <td>False</td>\n",
       "      <td>False</td>\n",
       "      <td>False</td>\n",
       "      <td>lyon (1-2) united</td>\n",
       "    </tr>\n",
       "  </tbody>\n",
       "</table>\n",
       "</div>"
      ],
      "text/plain": [
       "   season  round                 tie      winner     pk    agr    aet  \\\n",
       "0    2008  first       arsenal-milan     arsenal  False  False  False   \n",
       "1    2008  first    celtic-barcelona   barcelona  False  False  False   \n",
       "2    2008  first  fenerbahce-sevilla  fenerbahce   True  False   True   \n",
       "3    2008  first     liverpool-inter   liverpool  False  False  False   \n",
       "4    2008  first         lyon-united      united  False  False  False   \n",
       "\n",
       "                                              result  \n",
       "0                                arsenal (2-0) milan  \n",
       "1                             celtic (2-4) barcelona  \n",
       "2  fenerbahce (5-5 aet) sevilla, fenerbahce won o...  \n",
       "3                              liverpool (3-0) inter  \n",
       "4                                  lyon (1-2) united  "
      ]
     },
     "execution_count": 19,
     "metadata": {},
     "output_type": "execute_result"
    }
   ],
   "source": [
    "results.head()"
   ]
  },
  {
   "cell_type": "code",
   "execution_count": 20,
   "metadata": {},
   "outputs": [
    {
     "name": "stdout",
     "output_type": "stream",
     "text": [
      "<class 'pandas.core.frame.DataFrame'>\n",
      "RangeIndex: 162 entries, 0 to 161\n",
      "Data columns (total 8 columns):\n",
      "season    162 non-null int64\n",
      "round     162 non-null object\n",
      "tie       162 non-null object\n",
      "winner    162 non-null object\n",
      "pk        162 non-null bool\n",
      "agr       162 non-null bool\n",
      "aet       162 non-null bool\n",
      "result    162 non-null object\n",
      "dtypes: bool(3), int64(1), object(4)\n",
      "memory usage: 6.9+ KB\n"
     ]
    }
   ],
   "source": [
    "results.info()"
   ]
  },
  {
   "cell_type": "code",
   "execution_count": 21,
   "metadata": {},
   "outputs": [
    {
     "data": {
      "text/plain": [
       "162"
      ]
     },
     "execution_count": 21,
     "metadata": {},
     "output_type": "execute_result"
    }
   ],
   "source": [
    "len(results)"
   ]
  },
  {
   "cell_type": "code",
   "execution_count": 22,
   "metadata": {},
   "outputs": [],
   "source": [
    "with open('teamcrosswalk.psv') as f:\n",
    "    lines = f.readlines()\n",
    "    xwalk = {l.split('|')[1]: l.split('|')[0] for l in lines[1:]}"
   ]
  },
  {
   "cell_type": "code",
   "execution_count": 23,
   "metadata": {},
   "outputs": [
    {
     "data": {
      "text/plain": [
       "{'milan': 'AC Milan',\n",
       " 'apoel': 'APOEL',\n",
       " 'roma': 'AS Roma',\n",
       " 'ajax': 'Ajax',\n",
       " 'arsenal': 'Arsenal',\n",
       " 'atletico': 'Atl. Madrid',\n",
       " 'barcelona': 'Barcelona',\n",
       " 'basel': 'Basel',\n",
       " 'leverkusen': 'Bayer Leverkusen',\n",
       " 'bayern': 'Bayern Munich',\n",
       " 'benfica': 'Benfica',\n",
       " 'besiktas': 'Besiktas',\n",
       " 'bordeaux': 'Bordeaux',\n",
       " 'cska': 'CSKA Moscow',\n",
       " 'celtic': 'Celtic',\n",
       " 'chelsea': 'Chelsea',\n",
       " 'dortmund': 'Dortmund',\n",
       " 'kyiv': 'Dyn. Kyiv',\n",
       " 'copenhagen': 'FC Copenhagen',\n",
       " 'porto': 'FC Porto',\n",
       " 'fenerbahce': 'Fenerbahce',\n",
       " 'fiorentina': 'Fiorentina',\n",
       " 'galatasaray': 'Galatasaray',\n",
       " 'gent': 'Gent',\n",
       " 'inter': 'Inter',\n",
       " 'juventus': 'Juventus',\n",
       " 'leicester': 'Leicester',\n",
       " 'liverpool': 'Liverpool',\n",
       " 'lyon': 'Lyon',\n",
       " 'malaga': 'Malaga',\n",
       " 'city': 'Manchester City',\n",
       " 'united': 'Manchester Utd',\n",
       " 'marseille': 'Marseille',\n",
       " 'monaco': 'Monaco',\n",
       " 'napoli': 'Napoli',\n",
       " 'olympiacos': 'Olympiakos Piraeus',\n",
       " 'psv': 'PSV',\n",
       " 'panathinaikos': 'Panathinaikos',\n",
       " 'psg': 'Paris SG',\n",
       " 'madrid': 'Real Madrid',\n",
       " 'schalke': 'Schalke',\n",
       " 'sevilla': 'Sevilla',\n",
       " 'shakhtar': 'Shakhtar Donetsk',\n",
       " 'sporting': 'Sporting',\n",
       " 'stuttgart': 'Stuttgart',\n",
       " 'tottenham': 'Tottenham',\n",
       " 'valencia': 'Valencia',\n",
       " 'villareal': 'Villarreal',\n",
       " 'wolfsburg': 'Wolfsburg',\n",
       " 'zenit': 'Zenit Petersburg'}"
      ]
     },
     "execution_count": 23,
     "metadata": {},
     "output_type": "execute_result"
    }
   ],
   "source": [
    "xwalk"
   ]
  },
  {
   "cell_type": "code",
   "execution_count": 24,
   "metadata": {},
   "outputs": [],
   "source": [
    "final = []\n",
    "for d in results.to_dict(orient='records'):\n",
    "    teams = d['tie'].split('-')\n",
    "    final.append(\n",
    "        dict(\n",
    "            season=d['season'],\n",
    "            tie=d['tie'],\n",
    "            hometeam=xwalk[teams[0]],\n",
    "            awayteam=xwalk[teams[1]],\n",
    "            game=1\n",
    "        )\n",
    "    )\n",
    "    final.append(\n",
    "        dict(\n",
    "            season=d['season'],\n",
    "            tie=d['tie'],\n",
    "            hometeam=xwalk[teams[1]],\n",
    "            awayteam=xwalk[teams[0]],\n",
    "            game=2\n",
    "        )\n",
    "    )"
   ]
  },
  {
   "cell_type": "code",
   "execution_count": 30,
   "metadata": {},
   "outputs": [],
   "source": [
    "gameoddsxwalk = pd.DataFrame(final).merge(odds)[['hometeam','awayteam','game','season','tie','homewin','draw','awaywin']]"
   ]
  },
  {
   "cell_type": "code",
   "execution_count": 34,
   "metadata": {},
   "outputs": [
    {
     "data": {
      "text/html": [
       "<div>\n",
       "<style scoped>\n",
       "    .dataframe tbody tr th:only-of-type {\n",
       "        vertical-align: middle;\n",
       "    }\n",
       "\n",
       "    .dataframe tbody tr th {\n",
       "        vertical-align: top;\n",
       "    }\n",
       "\n",
       "    .dataframe thead th {\n",
       "        text-align: right;\n",
       "    }\n",
       "</style>\n",
       "<table border=\"1\" class=\"dataframe\">\n",
       "  <thead>\n",
       "    <tr style=\"text-align: right;\">\n",
       "      <th></th>\n",
       "      <th>hometeam</th>\n",
       "      <th>awayteam</th>\n",
       "      <th>game</th>\n",
       "      <th>season</th>\n",
       "      <th>tie</th>\n",
       "      <th>homewin</th>\n",
       "      <th>draw</th>\n",
       "      <th>awaywin</th>\n",
       "    </tr>\n",
       "  </thead>\n",
       "  <tbody>\n",
       "    <tr>\n",
       "      <th>0</th>\n",
       "      <td>Arsenal</td>\n",
       "      <td>AC Milan</td>\n",
       "      <td>1</td>\n",
       "      <td>2008</td>\n",
       "      <td>arsenal-milan</td>\n",
       "      <td>0.452474</td>\n",
       "      <td>0.314634</td>\n",
       "      <td>0.232891</td>\n",
       "    </tr>\n",
       "    <tr>\n",
       "      <th>1</th>\n",
       "      <td>AC Milan</td>\n",
       "      <td>Arsenal</td>\n",
       "      <td>2</td>\n",
       "      <td>2008</td>\n",
       "      <td>arsenal-milan</td>\n",
       "      <td>0.428566</td>\n",
       "      <td>0.317081</td>\n",
       "      <td>0.254352</td>\n",
       "    </tr>\n",
       "    <tr>\n",
       "      <th>2</th>\n",
       "      <td>Celtic</td>\n",
       "      <td>Barcelona</td>\n",
       "      <td>1</td>\n",
       "      <td>2008</td>\n",
       "      <td>celtic-barcelona</td>\n",
       "      <td>0.234004</td>\n",
       "      <td>0.302405</td>\n",
       "      <td>0.463592</td>\n",
       "    </tr>\n",
       "    <tr>\n",
       "      <th>3</th>\n",
       "      <td>Barcelona</td>\n",
       "      <td>Celtic</td>\n",
       "      <td>2</td>\n",
       "      <td>2008</td>\n",
       "      <td>celtic-barcelona</td>\n",
       "      <td>0.821256</td>\n",
       "      <td>0.146369</td>\n",
       "      <td>0.032374</td>\n",
       "    </tr>\n",
       "    <tr>\n",
       "      <th>4</th>\n",
       "      <td>Fenerbahce</td>\n",
       "      <td>Sevilla</td>\n",
       "      <td>1</td>\n",
       "      <td>2008</td>\n",
       "      <td>fenerbahce-sevilla</td>\n",
       "      <td>0.342100</td>\n",
       "      <td>0.309465</td>\n",
       "      <td>0.348435</td>\n",
       "    </tr>\n",
       "  </tbody>\n",
       "</table>\n",
       "</div>"
      ],
      "text/plain": [
       "     hometeam   awayteam  game  season                 tie   homewin  \\\n",
       "0     Arsenal   AC Milan     1    2008       arsenal-milan  0.452474   \n",
       "1    AC Milan    Arsenal     2    2008       arsenal-milan  0.428566   \n",
       "2      Celtic  Barcelona     1    2008    celtic-barcelona  0.234004   \n",
       "3   Barcelona     Celtic     2    2008    celtic-barcelona  0.821256   \n",
       "4  Fenerbahce    Sevilla     1    2008  fenerbahce-sevilla  0.342100   \n",
       "\n",
       "       draw   awaywin  \n",
       "0  0.314634  0.232891  \n",
       "1  0.317081  0.254352  \n",
       "2  0.302405  0.463592  \n",
       "3  0.146369  0.032374  \n",
       "4  0.309465  0.348435  "
      ]
     },
     "execution_count": 34,
     "metadata": {},
     "output_type": "execute_result"
    }
   ],
   "source": [
    "gameoddsxwalk.head()"
   ]
  },
  {
   "cell_type": "code",
   "execution_count": 39,
   "metadata": {},
   "outputs": [
    {
     "data": {
      "text/html": [
       "<div>\n",
       "<style scoped>\n",
       "    .dataframe tbody tr th:only-of-type {\n",
       "        vertical-align: middle;\n",
       "    }\n",
       "\n",
       "    .dataframe tbody tr th {\n",
       "        vertical-align: top;\n",
       "    }\n",
       "\n",
       "    .dataframe thead th {\n",
       "        text-align: right;\n",
       "    }\n",
       "</style>\n",
       "<table border=\"1\" class=\"dataframe\">\n",
       "  <thead>\n",
       "    <tr style=\"text-align: right;\">\n",
       "      <th></th>\n",
       "      <th>hometeam</th>\n",
       "      <th>awayteam</th>\n",
       "      <th>game</th>\n",
       "      <th>season</th>\n",
       "      <th>tie</th>\n",
       "      <th>homewin</th>\n",
       "      <th>draw</th>\n",
       "      <th>awaywin</th>\n",
       "    </tr>\n",
       "  </thead>\n",
       "  <tbody>\n",
       "    <tr>\n",
       "      <th>228</th>\n",
       "      <td>Gent</td>\n",
       "      <td>Wolfsburg</td>\n",
       "      <td>1</td>\n",
       "      <td>2016</td>\n",
       "      <td>gent-wolfsburg</td>\n",
       "      <td>NaN</td>\n",
       "      <td>NaN</td>\n",
       "      <td>NaN</td>\n",
       "    </tr>\n",
       "    <tr>\n",
       "      <th>235</th>\n",
       "      <td>Chelsea</td>\n",
       "      <td>Paris SG</td>\n",
       "      <td>2</td>\n",
       "      <td>2016</td>\n",
       "      <td>psg-chelsea</td>\n",
       "      <td>NaN</td>\n",
       "      <td>NaN</td>\n",
       "      <td>NaN</td>\n",
       "    </tr>\n",
       "  </tbody>\n",
       "</table>\n",
       "</div>"
      ],
      "text/plain": [
       "    hometeam   awayteam  game  season             tie  homewin  draw  awaywin\n",
       "228     Gent  Wolfsburg     1    2016  gent-wolfsburg      NaN   NaN      NaN\n",
       "235  Chelsea   Paris SG     2    2016     psg-chelsea      NaN   NaN      NaN"
      ]
     },
     "execution_count": 39,
     "metadata": {},
     "output_type": "execute_result"
    }
   ],
   "source": [
    "gameoddsxwalk[gameoddsxwalk.isnull().sum(axis=1).astype(bool)]"
   ]
  },
  {
   "cell_type": "code",
   "execution_count": 32,
   "metadata": {},
   "outputs": [],
   "source": [
    "gameoddsxwalk.to_csv('game-odds-xwalk.csv', index=False)"
   ]
  },
  {
   "cell_type": "code",
   "execution_count": null,
   "metadata": {},
   "outputs": [],
   "source": []
  }
 ],
 "metadata": {
  "kernelspec": {
   "display_name": "Python 3",
   "language": "python",
   "name": "python3"
  },
  "language_info": {
   "codemirror_mode": {
    "name": "ipython",
    "version": 3
   },
   "file_extension": ".py",
   "mimetype": "text/x-python",
   "name": "python",
   "nbconvert_exporter": "python",
   "pygments_lexer": "ipython3",
   "version": "3.7.2"
  }
 },
 "nbformat": 4,
 "nbformat_minor": 2
}
