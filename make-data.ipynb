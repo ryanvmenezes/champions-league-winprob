{
 "cells": [
  {
   "cell_type": "code",
   "execution_count": 1,
   "metadata": {},
   "outputs": [],
   "source": [
    "import pandas as pd"
   ]
  },
  {
   "cell_type": "code",
   "execution_count": 2,
   "metadata": {},
   "outputs": [],
   "source": [
    "results = pd.read_csv('results.csv')"
   ]
  },
  {
   "cell_type": "code",
   "execution_count": 3,
   "metadata": {},
   "outputs": [
    {
     "data": {
      "text/html": [
       "<div>\n",
       "<style scoped>\n",
       "    .dataframe tbody tr th:only-of-type {\n",
       "        vertical-align: middle;\n",
       "    }\n",
       "\n",
       "    .dataframe tbody tr th {\n",
       "        vertical-align: top;\n",
       "    }\n",
       "\n",
       "    .dataframe thead th {\n",
       "        text-align: right;\n",
       "    }\n",
       "</style>\n",
       "<table border=\"1\" class=\"dataframe\">\n",
       "  <thead>\n",
       "    <tr style=\"text-align: right;\">\n",
       "      <th></th>\n",
       "      <th>season</th>\n",
       "      <th>round</th>\n",
       "      <th>tie</th>\n",
       "      <th>winner</th>\n",
       "      <th>pk</th>\n",
       "      <th>agr</th>\n",
       "      <th>aet</th>\n",
       "      <th>result</th>\n",
       "    </tr>\n",
       "  </thead>\n",
       "  <tbody>\n",
       "    <tr>\n",
       "      <th>0</th>\n",
       "      <td>2008.0</td>\n",
       "      <td>first</td>\n",
       "      <td>arsenal-milan</td>\n",
       "      <td>arsenal</td>\n",
       "      <td>False</td>\n",
       "      <td>False</td>\n",
       "      <td>False</td>\n",
       "      <td>arsenal (2-0) milan</td>\n",
       "    </tr>\n",
       "    <tr>\n",
       "      <th>1</th>\n",
       "      <td>2008.0</td>\n",
       "      <td>first</td>\n",
       "      <td>celtic-barcelona</td>\n",
       "      <td>barcelona</td>\n",
       "      <td>False</td>\n",
       "      <td>False</td>\n",
       "      <td>False</td>\n",
       "      <td>celtic (2-4) barcelona</td>\n",
       "    </tr>\n",
       "    <tr>\n",
       "      <th>2</th>\n",
       "      <td>2008.0</td>\n",
       "      <td>first</td>\n",
       "      <td>fenerbahce-sevilla</td>\n",
       "      <td>fenerbahce</td>\n",
       "      <td>True</td>\n",
       "      <td>False</td>\n",
       "      <td>True</td>\n",
       "      <td>fenerbahce (5-5 aet) sevilla, fenerbahce won o...</td>\n",
       "    </tr>\n",
       "    <tr>\n",
       "      <th>3</th>\n",
       "      <td>2008.0</td>\n",
       "      <td>first</td>\n",
       "      <td>liverpool-inter</td>\n",
       "      <td>liverpool</td>\n",
       "      <td>False</td>\n",
       "      <td>False</td>\n",
       "      <td>False</td>\n",
       "      <td>liverpool (3-0) inter</td>\n",
       "    </tr>\n",
       "    <tr>\n",
       "      <th>4</th>\n",
       "      <td>2008.0</td>\n",
       "      <td>first</td>\n",
       "      <td>lyon-united</td>\n",
       "      <td>united</td>\n",
       "      <td>False</td>\n",
       "      <td>False</td>\n",
       "      <td>False</td>\n",
       "      <td>lyon (1-2) united</td>\n",
       "    </tr>\n",
       "  </tbody>\n",
       "</table>\n",
       "</div>"
      ],
      "text/plain": [
       "   season  round                 tie      winner     pk    agr    aet  \\\n",
       "0  2008.0  first       arsenal-milan     arsenal  False  False  False   \n",
       "1  2008.0  first    celtic-barcelona   barcelona  False  False  False   \n",
       "2  2008.0  first  fenerbahce-sevilla  fenerbahce   True  False   True   \n",
       "3  2008.0  first     liverpool-inter   liverpool  False  False  False   \n",
       "4  2008.0  first         lyon-united      united  False  False  False   \n",
       "\n",
       "                                              result  \n",
       "0                                arsenal (2-0) milan  \n",
       "1                             celtic (2-4) barcelona  \n",
       "2  fenerbahce (5-5 aet) sevilla, fenerbahce won o...  \n",
       "3                              liverpool (3-0) inter  \n",
       "4                                  lyon (1-2) united  "
      ]
     },
     "execution_count": 3,
     "metadata": {},
     "output_type": "execute_result"
    }
   ],
   "source": [
    "results.head()"
   ]
  },
  {
   "cell_type": "code",
   "execution_count": 5,
   "metadata": {},
   "outputs": [],
   "source": [
    "goles = pd.read_csv('goles - liga de campeones - Sheet1.tsv', sep='\\t')"
   ]
  },
  {
   "cell_type": "code",
   "execution_count": 8,
   "metadata": {},
   "outputs": [],
   "source": [
    "goles['season'].fillna(method='pad', inplace=True)\n",
    "goles['round'].fillna(method='pad', inplace=True)\n",
    "goles['tie'].fillna(method='pad', inplace=True)\n",
    "goles['game'].fillna(method='pad', inplace=True)"
   ]
  },
  {
   "cell_type": "code",
   "execution_count": 9,
   "metadata": {},
   "outputs": [
    {
     "data": {
      "text/html": [
       "<div>\n",
       "<style scoped>\n",
       "    .dataframe tbody tr th:only-of-type {\n",
       "        vertical-align: middle;\n",
       "    }\n",
       "\n",
       "    .dataframe tbody tr th {\n",
       "        vertical-align: top;\n",
       "    }\n",
       "\n",
       "    .dataframe thead th {\n",
       "        text-align: right;\n",
       "    }\n",
       "</style>\n",
       "<table border=\"1\" class=\"dataframe\">\n",
       "  <thead>\n",
       "    <tr style=\"text-align: right;\">\n",
       "      <th></th>\n",
       "      <th>season</th>\n",
       "      <th>round</th>\n",
       "      <th>tie</th>\n",
       "      <th>game</th>\n",
       "      <th>minute</th>\n",
       "      <th>away</th>\n",
       "      <th>extra</th>\n",
       "      <th>shootout</th>\n",
       "      <th>note</th>\n",
       "    </tr>\n",
       "  </thead>\n",
       "  <tbody>\n",
       "    <tr>\n",
       "      <th>0</th>\n",
       "      <td>2017.0</td>\n",
       "      <td>first</td>\n",
       "      <td>city-monaco</td>\n",
       "      <td>1.0</td>\n",
       "      <td>26</td>\n",
       "      <td>NaN</td>\n",
       "      <td>NaN</td>\n",
       "      <td>NaN</td>\n",
       "      <td>NaN</td>\n",
       "    </tr>\n",
       "    <tr>\n",
       "      <th>1</th>\n",
       "      <td>2017.0</td>\n",
       "      <td>first</td>\n",
       "      <td>city-monaco</td>\n",
       "      <td>1.0</td>\n",
       "      <td>32</td>\n",
       "      <td>a</td>\n",
       "      <td>NaN</td>\n",
       "      <td>NaN</td>\n",
       "      <td>NaN</td>\n",
       "    </tr>\n",
       "    <tr>\n",
       "      <th>2</th>\n",
       "      <td>2017.0</td>\n",
       "      <td>first</td>\n",
       "      <td>city-monaco</td>\n",
       "      <td>1.0</td>\n",
       "      <td>40</td>\n",
       "      <td>a</td>\n",
       "      <td>NaN</td>\n",
       "      <td>NaN</td>\n",
       "      <td>NaN</td>\n",
       "    </tr>\n",
       "    <tr>\n",
       "      <th>3</th>\n",
       "      <td>2017.0</td>\n",
       "      <td>first</td>\n",
       "      <td>city-monaco</td>\n",
       "      <td>1.0</td>\n",
       "      <td>58</td>\n",
       "      <td>NaN</td>\n",
       "      <td>NaN</td>\n",
       "      <td>NaN</td>\n",
       "      <td>NaN</td>\n",
       "    </tr>\n",
       "    <tr>\n",
       "      <th>4</th>\n",
       "      <td>2017.0</td>\n",
       "      <td>first</td>\n",
       "      <td>city-monaco</td>\n",
       "      <td>1.0</td>\n",
       "      <td>61</td>\n",
       "      <td>a</td>\n",
       "      <td>NaN</td>\n",
       "      <td>NaN</td>\n",
       "      <td>NaN</td>\n",
       "    </tr>\n",
       "  </tbody>\n",
       "</table>\n",
       "</div>"
      ],
      "text/plain": [
       "   season  round          tie  game minute away extra shootout  note\n",
       "0  2017.0  first  city-monaco   1.0     26  NaN   NaN      NaN   NaN\n",
       "1  2017.0  first  city-monaco   1.0     32    a   NaN      NaN   NaN\n",
       "2  2017.0  first  city-monaco   1.0     40    a   NaN      NaN   NaN\n",
       "3  2017.0  first  city-monaco   1.0     58  NaN   NaN      NaN   NaN\n",
       "4  2017.0  first  city-monaco   1.0     61    a   NaN      NaN   NaN"
      ]
     },
     "execution_count": 9,
     "metadata": {},
     "output_type": "execute_result"
    }
   ],
   "source": [
    "goles.head()"
   ]
  },
  {
   "cell_type": "code",
   "execution_count": 19,
   "metadata": {},
   "outputs": [
    {
     "name": "stdout",
     "output_type": "stream",
     "text": [
      "<class 'pandas.core.frame.DataFrame'>\n",
      "RangeIndex: 813 entries, 0 to 812\n",
      "Data columns (total 9 columns):\n",
      "season      813 non-null float64\n",
      "round       813 non-null object\n",
      "tie         813 non-null object\n",
      "game        813 non-null float64\n",
      "minute      793 non-null object\n",
      "away        302 non-null object\n",
      "extra       11 non-null object\n",
      "shootout    7 non-null object\n",
      "note        0 non-null float64\n",
      "dtypes: float64(3), object(6)\n",
      "memory usage: 57.2+ KB\n"
     ]
    }
   ],
   "source": [
    "goles.info()"
   ]
  },
  {
   "cell_type": "code",
   "execution_count": 18,
   "metadata": {},
   "outputs": [
    {
     "data": {
      "text/plain": [
       "array(['90+1', '90+5', '45+1', '90+6', '90+4', '90+3', '90+2', '45+2',\n",
       "       '45+3'], dtype=object)"
      ]
     },
     "execution_count": 18,
     "metadata": {},
     "output_type": "execute_result"
    }
   ],
   "source": [
    "goles[goles.minute.fillna('').str.contains('\\+')].minute.unique()"
   ]
  },
  {
   "cell_type": "code",
   "execution_count": 20,
   "metadata": {},
   "outputs": [
    {
     "data": {
      "text/plain": [
       "array(['26', '32', '40', '58', '61', '71', '77', '82', '8', '29', '18',\n",
       "       '49', '54', '24', '52', '57', '90+1', '48', '4', '85', '59', '11',\n",
       "       '30', '53', '56', '63', '88', '20', '55', '68', '78', '80', '72',\n",
       "       '74', '42', '17', '25', '86', nan, '3', '50', '90+5', '62', '73',\n",
       "       '27', '28', '84', '19', '79', '35', '81', '47', '76', '105', '110',\n",
       "       '112', '7', '22', '10', '12', '16', '33', '44', '69', '89', '60',\n",
       "       '64', '39', '45+1', '67', '83', '65', '51', '43', '5', '108', 'pk',\n",
       "       '90+6', '15', '2', '38', '36', '41', '31', '96', '114', '13', '70',\n",
       "       '45', '34', '75', '87', '90+4', '14', '23', '90', '6', '9', '21',\n",
       "       '37', '90+3', '66', '90+2', '1', '45+2', '45+3', '46', '98', '117'],\n",
       "      dtype=object)"
      ]
     },
     "execution_count": 20,
     "metadata": {},
     "output_type": "execute_result"
    }
   ],
   "source": [
    "goles.minute.unique()"
   ]
  },
  {
   "cell_type": "code",
   "execution_count": null,
   "metadata": {},
   "outputs": [],
   "source": [
    "def make_minutes(row):\n",
    "    '''\n",
    "    46th minute: Game 1 first-half stoppage time\n",
    "    92nd minute: Game 1 second-half stoppage time\n",
    "    138th minute: Game 2 first-half stoppage time\n",
    "    184th minute: Game 2 second-half stoppage time\n",
    "    185th minute: Penalty shootout\n",
    "    '''\n",
    "    \n",
    "    g = row.game\n",
    "    m = row.minute\n",
    "        \n",
    "    if g == 1:\n",
    "        if pd.isnull(m):\n",
    "            return m\n",
    "        if '45+' in m:\n",
    "            return 46\n",
    "        if '90+' in m:\n",
    "            return 92\n",
    "        \n",
    "    if g == 2:\n",
    "        "
   ]
  }
 ],
 "metadata": {
  "kernelspec": {
   "display_name": "Python 2",
   "language": "python",
   "name": "python2"
  },
  "language_info": {
   "codemirror_mode": {
    "name": "ipython",
    "version": 2
   },
   "file_extension": ".py",
   "mimetype": "text/x-python",
   "name": "python",
   "nbconvert_exporter": "python",
   "pygments_lexer": "ipython2",
   "version": "2.7.12"
  }
 },
 "nbformat": 4,
 "nbformat_minor": 2
}
