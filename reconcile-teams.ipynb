{
 "cells": [
  {
   "cell_type": "code",
   "execution_count": 1,
   "metadata": {},
   "outputs": [],
   "source": [
    "import pandas as pd"
   ]
  },
  {
   "cell_type": "code",
   "execution_count": 12,
   "metadata": {},
   "outputs": [],
   "source": [
    "odds = pd.read_csv('champions league odds - odds.csv')"
   ]
  },
  {
   "cell_type": "code",
   "execution_count": 13,
   "metadata": {},
   "outputs": [
    {
     "data": {
      "text/html": [
       "<div>\n",
       "<style scoped>\n",
       "    .dataframe tbody tr th:only-of-type {\n",
       "        vertical-align: middle;\n",
       "    }\n",
       "\n",
       "    .dataframe tbody tr th {\n",
       "        vertical-align: top;\n",
       "    }\n",
       "\n",
       "    .dataframe thead th {\n",
       "        text-align: right;\n",
       "    }\n",
       "</style>\n",
       "<table border=\"1\" class=\"dataframe\">\n",
       "  <thead>\n",
       "    <tr style=\"text-align: right;\">\n",
       "      <th></th>\n",
       "      <th>hometeam</th>\n",
       "      <th>awayteam</th>\n",
       "      <th>season</th>\n",
       "      <th>homewin</th>\n",
       "      <th>tie</th>\n",
       "      <th>awaywin</th>\n",
       "    </tr>\n",
       "  </thead>\n",
       "  <tbody>\n",
       "    <tr>\n",
       "      <th>0</th>\n",
       "      <td>AS Roma</td>\n",
       "      <td>Liverpool</td>\n",
       "      <td>2018</td>\n",
       "      <td>0.367839</td>\n",
       "      <td>0.240685</td>\n",
       "      <td>0.391476</td>\n",
       "    </tr>\n",
       "    <tr>\n",
       "      <th>1</th>\n",
       "      <td>Real Madrid</td>\n",
       "      <td>Bayern Munich</td>\n",
       "      <td>2018</td>\n",
       "      <td>0.407064</td>\n",
       "      <td>0.237869</td>\n",
       "      <td>0.355067</td>\n",
       "    </tr>\n",
       "    <tr>\n",
       "      <th>2</th>\n",
       "      <td>Bayern Munich</td>\n",
       "      <td>Real Madrid</td>\n",
       "      <td>2018</td>\n",
       "      <td>0.487331</td>\n",
       "      <td>0.238888</td>\n",
       "      <td>0.273781</td>\n",
       "    </tr>\n",
       "    <tr>\n",
       "      <th>3</th>\n",
       "      <td>Liverpool</td>\n",
       "      <td>AS Roma</td>\n",
       "      <td>2018</td>\n",
       "      <td>0.642321</td>\n",
       "      <td>0.211442</td>\n",
       "      <td>0.146237</td>\n",
       "    </tr>\n",
       "    <tr>\n",
       "      <th>4</th>\n",
       "      <td>Bayern Munich</td>\n",
       "      <td>Sevilla</td>\n",
       "      <td>2018</td>\n",
       "      <td>0.764948</td>\n",
       "      <td>0.142686</td>\n",
       "      <td>0.092366</td>\n",
       "    </tr>\n",
       "  </tbody>\n",
       "</table>\n",
       "</div>"
      ],
      "text/plain": [
       "         hometeam       awayteam  season   homewin       tie   awaywin\n",
       "0        AS Roma       Liverpool    2018  0.367839  0.240685  0.391476\n",
       "1    Real Madrid   Bayern Munich    2018  0.407064  0.237869  0.355067\n",
       "2  Bayern Munich     Real Madrid    2018  0.487331  0.238888  0.273781\n",
       "3      Liverpool         AS Roma    2018  0.642321  0.211442  0.146237\n",
       "4  Bayern Munich         Sevilla    2018  0.764948  0.142686  0.092366"
      ]
     },
     "execution_count": 13,
     "metadata": {},
     "output_type": "execute_result"
    }
   ],
   "source": [
    "odds.head()"
   ]
  },
  {
   "cell_type": "code",
   "execution_count": 14,
   "metadata": {},
   "outputs": [
    {
     "data": {
      "text/plain": [
       "array(['AS Roma ', 'Real Madrid ', 'Bayern Munich ', 'Liverpool ',\n",
       "       'Manchester City ', 'Barcelona ', 'Juventus ', 'Sevilla ',\n",
       "       'Besiktas ', 'Manchester Utd ', 'Tottenham ', 'Paris SG ',\n",
       "       'Shakhtar Donetsk ', 'Chelsea ', 'FC Porto ', 'Basel ',\n",
       "       'Atl. Madrid ', 'Monaco ', 'Leicester ', 'Dortmund ', 'Arsenal ',\n",
       "       'Napoli ', 'Bayer Leverkusen ', 'Benfica ', 'Wolfsburg ',\n",
       "       'Zenit Petersburg ', 'Dyn. Kyiv ', 'PSV ', 'Gent ', 'Schalke ',\n",
       "       'Galatasaray ', 'Olympiakos Piraeus ', 'AC Milan ', 'Malaga ',\n",
       "       'Celtic ', 'Valencia ', 'Marseille ', 'APOEL ', 'Inter ',\n",
       "       'CSKA Moscow ', 'Lyon ', 'FC Copenhagen ', 'Bordeaux ',\n",
       "       'Fiorentina ', 'Stuttgart ', 'Villarreal ', 'Panathinaikos ',\n",
       "       'Sporting ', 'Fenerbahce ', 'Ajax '], dtype=object)"
      ]
     },
     "execution_count": 14,
     "metadata": {},
     "output_type": "execute_result"
    }
   ],
   "source": [
    "odds.hometeam.unique()"
   ]
  },
  {
   "cell_type": "code",
   "execution_count": 15,
   "metadata": {},
   "outputs": [],
   "source": [
    "teams = {}\n",
    "for t in odds.hometeam.unique():\n",
    "    teams[t.strip()] = True\n",
    "for t in odds.awayteam.unique():\n",
    "    teams[t.strip()] = True"
   ]
  },
  {
   "cell_type": "code",
   "execution_count": 16,
   "metadata": {},
   "outputs": [
    {
     "data": {
      "text/plain": [
       "['AC Milan',\n",
       " 'APOEL',\n",
       " 'AS Roma',\n",
       " 'Ajax',\n",
       " 'Arsenal',\n",
       " 'Atl. Madrid',\n",
       " 'Barcelona',\n",
       " 'Basel',\n",
       " 'Bayer Leverkusen',\n",
       " 'Bayern Munich',\n",
       " 'Benfica',\n",
       " 'Besiktas',\n",
       " 'Bordeaux',\n",
       " 'CSKA Moscow',\n",
       " 'Celtic',\n",
       " 'Chelsea',\n",
       " 'Dortmund',\n",
       " 'Dyn. Kyiv',\n",
       " 'FC Copenhagen',\n",
       " 'FC Porto',\n",
       " 'Fenerbahce',\n",
       " 'Fiorentina',\n",
       " 'Galatasaray',\n",
       " 'Gent',\n",
       " 'Inter',\n",
       " 'Juventus',\n",
       " 'Leicester',\n",
       " 'Liverpool',\n",
       " 'Lyon',\n",
       " 'Malaga',\n",
       " 'Manchester City',\n",
       " 'Manchester Utd',\n",
       " 'Marseille',\n",
       " 'Monaco',\n",
       " 'Napoli',\n",
       " 'Olympiakos Piraeus',\n",
       " 'PSV',\n",
       " 'Panathinaikos',\n",
       " 'Paris SG',\n",
       " 'Real Madrid',\n",
       " 'Schalke',\n",
       " 'Sevilla',\n",
       " 'Shakhtar Donetsk',\n",
       " 'Sporting',\n",
       " 'Stuttgart',\n",
       " 'Tottenham',\n",
       " 'Valencia',\n",
       " 'Villarreal',\n",
       " 'Wolfsburg',\n",
       " 'Zenit Petersburg']"
      ]
     },
     "execution_count": 16,
     "metadata": {},
     "output_type": "execute_result"
    }
   ],
   "source": [
    "sorted(teams.keys())"
   ]
  },
  {
   "cell_type": "code",
   "execution_count": 17,
   "metadata": {},
   "outputs": [],
   "source": [
    "results = pd.read_csv('results.csv')"
   ]
  },
  {
   "cell_type": "code",
   "execution_count": 18,
   "metadata": {},
   "outputs": [],
   "source": [
    "shortteams = {}\n",
    "for tie in results.tie:\n",
    "    tms = tie.split('-')\n",
    "    shortteams[tms[0]] = True\n",
    "    shortteams[tms[1]] = True"
   ]
  },
  {
   "cell_type": "code",
   "execution_count": 19,
   "metadata": {},
   "outputs": [
    {
     "data": {
      "text/plain": [
       "['ajax',\n",
       " 'apoel',\n",
       " 'arsenal',\n",
       " 'atletico',\n",
       " 'barcelona',\n",
       " 'basel',\n",
       " 'bayern',\n",
       " 'benfica',\n",
       " 'besiktas',\n",
       " 'bordeaux',\n",
       " 'celtic',\n",
       " 'chelsea',\n",
       " 'city',\n",
       " 'copenhagen',\n",
       " 'cska',\n",
       " 'dortmund',\n",
       " 'fenerbahce',\n",
       " 'fiorentina',\n",
       " 'galatasaray',\n",
       " 'gent',\n",
       " 'inter',\n",
       " 'juventus',\n",
       " 'kyiv',\n",
       " 'leicester',\n",
       " 'leverkusen',\n",
       " 'liverpool',\n",
       " 'lyon',\n",
       " 'madrid',\n",
       " 'malaga',\n",
       " 'marseille',\n",
       " 'milan',\n",
       " 'monaco',\n",
       " 'napoli',\n",
       " 'olympiacos',\n",
       " 'panathinaikos',\n",
       " 'porto',\n",
       " 'psg',\n",
       " 'psv',\n",
       " 'roma',\n",
       " 'schalke',\n",
       " 'sevilla',\n",
       " 'shakhtar',\n",
       " 'sporting',\n",
       " 'stuttgart',\n",
       " 'tottenham',\n",
       " 'united',\n",
       " 'valencia',\n",
       " 'villareal',\n",
       " 'wolfsburg',\n",
       " 'zenit']"
      ]
     },
     "execution_count": 19,
     "metadata": {},
     "output_type": "execute_result"
    }
   ],
   "source": [
    "sorted(shortteams.keys())"
   ]
  },
  {
   "cell_type": "code",
   "execution_count": 20,
   "metadata": {},
   "outputs": [
    {
     "data": {
      "text/plain": [
       "50"
      ]
     },
     "execution_count": 20,
     "metadata": {},
     "output_type": "execute_result"
    }
   ],
   "source": [
    "len(sorted(shortteams.keys()))"
   ]
  },
  {
   "cell_type": "code",
   "execution_count": 21,
   "metadata": {},
   "outputs": [
    {
     "data": {
      "text/plain": [
       "50"
      ]
     },
     "execution_count": 21,
     "metadata": {},
     "output_type": "execute_result"
    }
   ],
   "source": [
    "len(sorted(teams.keys()))"
   ]
  },
  {
   "cell_type": "code",
   "execution_count": null,
   "metadata": {},
   "outputs": [],
   "source": []
  }
 ],
 "metadata": {
  "kernelspec": {
   "display_name": "Python 3",
   "language": "python",
   "name": "python3"
  },
  "language_info": {
   "codemirror_mode": {
    "name": "ipython",
    "version": 3
   },
   "file_extension": ".py",
   "mimetype": "text/x-python",
   "name": "python",
   "nbconvert_exporter": "python",
   "pygments_lexer": "ipython3",
   "version": "3.7.2"
  }
 },
 "nbformat": 4,
 "nbformat_minor": 2
}
